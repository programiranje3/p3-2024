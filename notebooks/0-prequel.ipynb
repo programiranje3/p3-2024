{
 "cells": [
  {
   "cell_type": "markdown",
   "id": "f9250bc2-002e-45f9-8109-9667265e240e",
   "metadata": {
    "pycharm": {
     "name": "#%% md\n"
    }
   },
   "source": "# Grunge"
  },
  {
   "cell_type": "markdown",
   "id": "46ea00e0-1c4e-4a47-a0df-2e48f7e1a8c5",
   "metadata": {
    "pycharm": {
     "name": "#%% md\n"
    }
   },
   "source": "Some of the most widely known grunge bands: <b>Pearl Jam</b>, <b>Nirvana</b>, <b>Alice in Chains</b>, <b>Soundgarden</b> :)"
  },
  {
   "cell_type": "markdown",
   "id": "edf50319-ed9a-4939-b933-86f36fde3ce6",
   "metadata": {
    "pycharm": {
     "name": "#%% md\n"
    }
   },
   "source": "![grunge](https://www.billboard.com/wp-content/uploads/stylus/1200109-Charles-Peterson-grunge-10-617-409.jpg?w=619)"
  },
  {
   "cell_type": "markdown",
   "id": "20c0fb44-93cb-4c89-aa80-4592fd380e14",
   "metadata": {
    "pycharm": {
     "name": "#%% md\n"
    }
   },
   "source": [
    ">#### Wanting to be someone else is a waste of the person you are.\n",
    "\n",
    "*Kurt Cobain*"
   ]
  },
  {
   "cell_type": "markdown",
   "id": "e9ac0072-1234-48d8-b672-d59ce0971d42",
   "metadata": {
    "pycharm": {
     "name": "#%% md\n"
    }
   },
   "source": "![Chris Cornell](https://encrypted-tbn0.gstatic.com/images?q=tbn:ANd9GcR0bxC8JZ524yw4gYJ6yS84BjAFfyU5-NJYKw&s)"
  },
  {
   "cell_type": "markdown",
   "id": "d0953ca7-c003-4a7b-93ba-8056041e97f0",
   "metadata": {
    "pycharm": {
     "name": "#%% md\n"
    }
   },
   "source": [
    "[Chris Cornell Official Website](https://chriscornell.com/)<br>\n",
    "A beautiful song, [Patience](https://www.youtube.com/watch?v=myZ32Pf-5PE) (a G'n'R cover)"
   ]
  }
 ],
 "metadata": {
  "kernelspec": {
   "display_name": "Python 3 (ipykernel)",
   "language": "python",
   "name": "python3"
  },
  "language_info": {
   "codemirror_mode": {
    "name": "ipython",
    "version": 3
   },
   "file_extension": ".py",
   "mimetype": "text/x-python",
   "name": "python",
   "nbconvert_exporter": "python",
   "pygments_lexer": "ipython3",
   "version": "3.10.0"
  }
 },
 "nbformat": 4,
 "nbformat_minor": 5
}
